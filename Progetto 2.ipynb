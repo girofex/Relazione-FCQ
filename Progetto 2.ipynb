{
 "cells": [
  {
   "cell_type": "code",
   "execution_count": 23,
   "metadata": {},
   "outputs": [
    {
     "ename": "QuantumFunctionError",
     "evalue": "All measurements must be returned in the order they are measured.",
     "output_type": "error",
     "traceback": [
      "\u001b[0;31m---------------------------------------------------------------------------\u001b[0m",
      "\u001b[0;31mQuantumFunctionError\u001b[0m                      Traceback (most recent call last)",
      "Cell \u001b[0;32mIn[23], line 62\u001b[0m\n\u001b[1;32m     56\u001b[0m         qml\u001b[38;5;241m.\u001b[39mPauliX(wires\u001b[38;5;241m=\u001b[39m\u001b[38;5;241m2\u001b[39m)\n\u001b[1;32m     59\u001b[0m     \u001b[38;5;28;01mreturn\u001b[39;00m qml\u001b[38;5;241m.\u001b[39mprobs(wires\u001b[38;5;241m=\u001b[39m[\u001b[38;5;241m0\u001b[39m, \u001b[38;5;241m1\u001b[39m, \u001b[38;5;241m2\u001b[39m])\n\u001b[0;32m---> 62\u001b[0m result \u001b[38;5;241m=\u001b[39m circuit()\n\u001b[1;32m     63\u001b[0m \u001b[38;5;28mprint\u001b[39m(\u001b[38;5;124m\"\u001b[39m\u001b[38;5;124mProbabilities of states after error correction:\u001b[39m\u001b[38;5;124m\"\u001b[39m)\n\u001b[1;32m     64\u001b[0m \u001b[38;5;28mprint\u001b[39m(result)\n",
      "File \u001b[0;32m~/anaconda3/lib/python3.11/site-packages/pennylane/workflow/qnode.py:1092\u001b[0m, in \u001b[0;36mQNode.__call__\u001b[0;34m(self, *args, **kwargs)\u001b[0m\n\u001b[1;32m   1089\u001b[0m     override_shots \u001b[38;5;241m=\u001b[39m kwargs[\u001b[38;5;124m\"\u001b[39m\u001b[38;5;124mshots\u001b[39m\u001b[38;5;124m\"\u001b[39m]\n\u001b[1;32m   1091\u001b[0m \u001b[38;5;66;03m# construct the tape\u001b[39;00m\n\u001b[0;32m-> 1092\u001b[0m \u001b[38;5;28mself\u001b[39m\u001b[38;5;241m.\u001b[39mconstruct(args, kwargs)\n\u001b[1;32m   1094\u001b[0m original_grad_fn \u001b[38;5;241m=\u001b[39m [\u001b[38;5;28mself\u001b[39m\u001b[38;5;241m.\u001b[39mgradient_fn, \u001b[38;5;28mself\u001b[39m\u001b[38;5;241m.\u001b[39mgradient_kwargs, \u001b[38;5;28mself\u001b[39m\u001b[38;5;241m.\u001b[39mdevice]\n\u001b[1;32m   1095\u001b[0m \u001b[38;5;28mself\u001b[39m\u001b[38;5;241m.\u001b[39m_update_gradient_fn(shots\u001b[38;5;241m=\u001b[39moverride_shots, tape\u001b[38;5;241m=\u001b[39m\u001b[38;5;28mself\u001b[39m\u001b[38;5;241m.\u001b[39m_tape)\n",
      "File \u001b[0;32m~/anaconda3/lib/python3.11/site-packages/pennylane/workflow/qnode.py:961\u001b[0m, in \u001b[0;36mQNode.construct\u001b[0;34m(self, args, kwargs)\u001b[0m\n\u001b[1;32m    956\u001b[0m terminal_measurements \u001b[38;5;241m=\u001b[39m [\n\u001b[1;32m    957\u001b[0m     m \u001b[38;5;28;01mfor\u001b[39;00m m \u001b[38;5;129;01min\u001b[39;00m \u001b[38;5;28mself\u001b[39m\u001b[38;5;241m.\u001b[39mtape\u001b[38;5;241m.\u001b[39mmeasurements \u001b[38;5;28;01mif\u001b[39;00m \u001b[38;5;129;01mnot\u001b[39;00m \u001b[38;5;28misinstance\u001b[39m(m, MidMeasureMP)\n\u001b[1;32m    958\u001b[0m ]\n\u001b[1;32m    960\u001b[0m \u001b[38;5;28;01mif\u001b[39;00m \u001b[38;5;28many\u001b[39m(ret \u001b[38;5;129;01mis\u001b[39;00m \u001b[38;5;129;01mnot\u001b[39;00m m \u001b[38;5;28;01mfor\u001b[39;00m ret, m \u001b[38;5;129;01min\u001b[39;00m \u001b[38;5;28mzip\u001b[39m(measurement_processes, terminal_measurements)):\n\u001b[0;32m--> 961\u001b[0m     \u001b[38;5;28;01mraise\u001b[39;00m qml\u001b[38;5;241m.\u001b[39mQuantumFunctionError(\n\u001b[1;32m    962\u001b[0m         \u001b[38;5;124m\"\u001b[39m\u001b[38;5;124mAll measurements must be returned in the order they are measured.\u001b[39m\u001b[38;5;124m\"\u001b[39m\n\u001b[1;32m    963\u001b[0m     )\n\u001b[1;32m    965\u001b[0m num_wires \u001b[38;5;241m=\u001b[39m \u001b[38;5;28mlen\u001b[39m(\u001b[38;5;28mself\u001b[39m\u001b[38;5;241m.\u001b[39mtape\u001b[38;5;241m.\u001b[39mwires) \u001b[38;5;28;01mif\u001b[39;00m \u001b[38;5;129;01mnot\u001b[39;00m \u001b[38;5;28mself\u001b[39m\u001b[38;5;241m.\u001b[39mdevice\u001b[38;5;241m.\u001b[39mwires \u001b[38;5;28;01melse\u001b[39;00m \u001b[38;5;28mlen\u001b[39m(\u001b[38;5;28mself\u001b[39m\u001b[38;5;241m.\u001b[39mdevice\u001b[38;5;241m.\u001b[39mwires)\n\u001b[1;32m    966\u001b[0m \u001b[38;5;28;01mfor\u001b[39;00m obj \u001b[38;5;129;01min\u001b[39;00m \u001b[38;5;28mself\u001b[39m\u001b[38;5;241m.\u001b[39mtape\u001b[38;5;241m.\u001b[39moperations \u001b[38;5;241m+\u001b[39m \u001b[38;5;28mself\u001b[39m\u001b[38;5;241m.\u001b[39mtape\u001b[38;5;241m.\u001b[39mobservables:\n",
      "\u001b[0;31mQuantumFunctionError\u001b[0m: All measurements must be returned in the order they are measured."
     ]
    }
   ],
   "source": [
    "# Importing necessary libraries\n",
    "import pennylane as qml\n",
    "import numpy as np\n",
    "import matplotlib.pyplot as plt\n",
    "import random\n",
    "\n",
    "# Define the number of qubits\n",
    "n_qubits = 3\n",
    "\n",
    "# Initialize a device\n",
    "dev = qml.device('default.qubit', wires=n_qubits, shots=1)\n",
    "\n",
    "# Define the initial state preparation function\n",
    "def initial_state():\n",
    "    qml.Hadamard(wires=0)\n",
    "    qml.CNOT(wires=[0, 1])\n",
    "    qml.CNOT(wires=[0, 2])\n",
    "\n",
    "# Define the weak error function\n",
    "def apply_weak_error():\n",
    "    # Randomly select one of the three qubits\n",
    "    qubit_to_flip = random.randint(0, 2)\n",
    "    # Apply a small rotation around the X axis to simulate a weak bit-flip error\n",
    "    epsilon = np.pi /3\n",
    "    qml.RX(epsilon, wires=qubit_to_flip)\n",
    "\n",
    "def plot_circuit_and_probs(circuit, *args, description=\"\"):\n",
    "    # Execute the circuit to obtain the probabilities\n",
    "    probs = circuit(*args)\n",
    "    # Calculate the squared magnitude of each probability amplitude\n",
    "    squared_probs = np.abs(probs)**2\n",
    "    # Draw the circuit\n",
    "    fig, ax = qml.draw_mpl(circuit, expansion_strategy=\"device\")(*args)\n",
    "    plt.show()\n",
    "    # Print the probabilities\n",
    "    print(f\"Probabilities of states after {description}:\")\n",
    "    for i, p in enumerate(squared_probs):\n",
    "        print(f\"State |{i:03b}⟩: {p:.4f}\")\n",
    "    print(\"\\n\")\n",
    "\n",
    "@qml.qnode(dev)\n",
    "def circuit():\n",
    "    initial_state()\n",
    "    apply_weak_error()\n",
    "    \n",
    "    # Measure the stabilizers\n",
    "    Z1Z2 = qml.sample(qml.PauliZ(0) @ qml.PauliZ(1))\n",
    "    Z1Z3 = qml.sample(qml.PauliZ(0) @ qml.PauliZ(2))\n",
    "    \n",
    "    # Define error correction based on the stabilizer measurements\n",
    "    if Z1Z2 == -1 and Z1Z3 == -1:\n",
    "        qml.PauliX(wires=0)\n",
    "    elif Z1Z2 == -1 and Z1Z3 == 1:\n",
    "        qml.PauliX(wires=1)\n",
    "    elif Z1Z2 == 1 and Z1Z3 == -1:\n",
    "        qml.PauliX(wires=2)\n",
    "    \n",
    "    \n",
    "    return qml.probs(wires=[0, 1, 2])\n",
    "\n",
    "\n"
   ]
  }
 ],
 "metadata": {
  "kernelspec": {
   "display_name": "Python 3 (ipykernel)",
   "language": "python",
   "name": "python3"
  },
  "language_info": {
   "codemirror_mode": {
    "name": "ipython",
    "version": 3
   },
   "file_extension": ".py",
   "mimetype": "text/x-python",
   "name": "python",
   "nbconvert_exporter": "python",
   "pygments_lexer": "ipython3",
   "version": "3.11.5"
  }
 },
 "nbformat": 4,
 "nbformat_minor": 2
}
