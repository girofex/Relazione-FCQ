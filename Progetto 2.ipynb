{
 "cells": [
  {
   "cell_type": "code",
   "execution_count": 718,
   "metadata": {},
   "outputs": [
    {
     "name": "stdout",
     "output_type": "stream",
     "text": [
      "Corrected state: {'000': 269, '111': 231}\n"
     ]
    }
   ],
   "source": [
    "import pennylane as qml\n",
    "import random\n",
    "import numpy as np\n",
    "# Define the number of qubits\n",
    "n_qubits = 3\n",
    "shots = 500\n",
    "\n",
    "# Initialize a device\n",
    "dev = qml.device('default.qubit', wires=n_qubits, shots=shots)\n",
    "\n",
    "# Define the initial state preparation function\n",
    "def initial_state():\n",
    "    qml.Hadamard(wires=0)\n",
    "    qml.CNOT(wires=[0, 1])\n",
    "    qml.CNOT(wires=[0, 2])\n",
    "\n",
    "# Define the weak error function\n",
    "def apply_weak_error():\n",
    "    # Randomly select one of the three qubits\n",
    "    qubit_to_flip = random.randint(0, 2)\n",
    "    # Apply a small rotation around the X axis to simulate a weak bit-flip error\n",
    "    epsilon = np.pi / 100\n",
    "    qml.RX(epsilon, wires=qubit_to_flip)\n",
    "\n",
    "@qml.qnode(dev)\n",
    "def circuit():\n",
    "    initial_state()\n",
    "    apply_weak_error()\n",
    "    \n",
    "    # Measure the stabilizers\n",
    "    Z1Z2 = qml.sample(qml.PauliZ(0) @ qml.PauliZ(1))\n",
    "    Z1Z3 = qml.sample(qml.PauliZ(0) @ qml.PauliZ(2))\n",
    "    \n",
    "    # Define error correction based on the stabilizer measurements\n",
    "    if Z1Z2 == 1 and Z1Z3 == 1:\n",
    "        pass\n",
    "    elif Z1Z2 == -1 and Z1Z3 == -1:\n",
    "        qml.PauliX(wires=0)\n",
    "    elif Z1Z2 == -1 and Z1Z3 == 1:\n",
    "        qml.PauliX(wires=1)\n",
    "    elif Z1Z3 == 1 and Z1Z2 == -1:\n",
    "        qml.PauliX(wires=2)\n",
    "    \n",
    "    # Measure the corrected state after error correction\n",
    "    corrected_state = qml.counts(wires=[0, 1, 2])\n",
    "    \n",
    "    # Return stabilizer measurements and corrected state\n",
    "    return Z1Z2, Z1Z3, corrected_state\n",
    "\n",
    "# Run the circuit\n",
    "Z1Z2, Z1Z3, corrected_state = circuit()\n",
    "\n",
    "# Print stabilizer measurements and corrected state\n",
    "print(\"Corrected state:\", corrected_state)\n",
    "\n",
    "\n",
    "\n"
   ]
  }
 ],
 "metadata": {
  "kernelspec": {
   "display_name": "Python 3 (ipykernel)",
   "language": "python",
   "name": "python3"
  },
  "language_info": {
   "codemirror_mode": {
    "name": "ipython",
    "version": 3
   },
   "file_extension": ".py",
   "mimetype": "text/x-python",
   "name": "python",
   "nbconvert_exporter": "python",
   "pygments_lexer": "ipython3",
   "version": "3.11.5"
  }
 },
 "nbformat": 4,
 "nbformat_minor": 2
}
