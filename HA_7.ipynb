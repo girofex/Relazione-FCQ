{
 "cells": [
  {
   "cell_type": "code",
   "execution_count": 29,
   "metadata": {},
   "outputs": [
    {
     "data": {
      "image/png": "[encoded data removed]",
      "text/plain": [
       "<Figure size 454.719x284.278 with 1 Axes>"
      ]
     },
     "execution_count": 29,
     "metadata": {},
     "output_type": "execute_result"
    }
   ],
   "source": [
    "from qiskit import QuantumCircuit, transpile\n",
    "from qiskit_aer import Aer\n",
    "import numpy as np\n",
    "\n",
    "\n",
    "# Define the amplitudes\n",
    "alpha = np.sqrt(0.5)\n",
    "beta = np.sqrt(0.5)\n",
    "\n",
    "# Create a quantum circuit with one qubit\n",
    "qc = QuantumCircuit(3)\n",
    "\n",
    "# Initialize the qubit\n",
    "qc.initialize([alpha, beta], 0)\n",
    "\n",
    "#Apply CNOT gate\n",
    "qc.cx(0,1)\n",
    "qc.cx(0,2)\n",
    "\n",
    "# Apply a small rotation to the second qubit\n",
    "qc.rx(np.pi / 10, 1)\n",
    "\n",
    "# Draw the circuit\n",
    "qc.draw(\"mpl\")\n",
    "\n",
    "\n"
   ]
  },
  {
   "cell_type": "code",
   "execution_count": null,
   "metadata": {},
   "outputs": [],
   "source": []
  },
  {
   "cell_type": "markdown",
   "metadata": {},
   "source": []
  },
  {
   "cell_type": "code",
   "execution_count": 30,
   "metadata": {},
   "outputs": [
    {
     "name": "stdout",
     "output_type": "stream",
     "text": [
      "Statevector([0.707+0.j, 0.   +0.j, 0.   +0.j, 0.   +0.j, 0.   +0.j,\n",
      "             0.   +0.j, 0.   +0.j, 0.707+0.j],\n",
      "            dims=(2, 2, 2))\n"
     ]
    }
   ],
   "source": [
    "# Let's see the result\n",
    "backend = Aer.get_backend('statevector_simulator')\n",
    "job = transpile(qc, backend)\n",
    "result = backend.run(job).result()\n",
    "outputstate = result.get_statevector(qc, decimals=3)\n",
    "print(outputstate)"
   ]
  }
 ],
 "metadata": {
  "kernelspec": {
   "display_name": "Python 3 (ipykernel)",
   "language": "python",
   "name": "python3"
  },
  "language_info": {
   "codemirror_mode": {
    "name": "ipython",
    "version": 3
   },
   "file_extension": ".py",
   "mimetype": "text/x-python",
   "name": "python",
   "nbconvert_exporter": "python",
   "pygments_lexer": "ipython3",
   "version": "3.11.5"
  }
 },
 "nbformat": 4,
 "nbformat_minor": 2
}
